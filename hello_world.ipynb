{
 "cells": [
  {
   "attachments": {},
   "cell_type": "markdown",
   "metadata": {},
   "source": [
    "#### Hello World GitHub Assignment\n",
    "##### Gayathri Shanmuga Sundaram - U88629479\n",
    "\n",
    "Instructions:\n",
    "\n",
    "1) Create a new repo in your GitHub account (make sure that the repo is public so that the TA and I will be able to view it)\n",
    "\n",
    "2) Clone this repo to your local machine\n",
    "\n",
    "3) Use VSCode to create a new notebook; call it hello_world.ipynb. Add something to this notebook (know a good joke?)\n",
    "\n",
    "4) Add this new notebook to the staging area\n",
    "\n",
    "5) Commit this notebook - use the commit message that includes your name and that this is your first commit.\n",
    "\n",
    "6) Push (sync) your local repo to your GitHub repo\n",
    "\n",
    "7) Both your notebook and the URL to your repo "
   ]
  },
  {
   "cell_type": "code",
   "execution_count": null,
   "metadata": {},
   "outputs": [],
   "source": [
    "print (\"Data is like people – interrogate it hard enough and it will tell you whatever you want to hear.\")"
   ]
  }
 ],
 "metadata": {
  "language_info": {
   "name": "python"
  },
  "orig_nbformat": 4
 },
 "nbformat": 4,
 "nbformat_minor": 2
}
